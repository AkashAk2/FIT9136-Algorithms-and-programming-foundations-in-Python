{
 "cells": [
  {
   "cell_type": "markdown",
   "id": "b443d774",
   "metadata": {},
   "source": [
    "# FIT9136 - Week 5 Applied Session"
   ]
  },
  {
   "cell_type": "markdown",
   "id": "5ee8dbac",
   "metadata": {},
   "source": [
    "## Table of Contents:\n",
    "\n",
    "1. [*Exercise 1: Tom Riddle and His Horcruxes](#exercise-1)\n",
    "2. [*Exercise 2: The Greatest Fight of Wizards](#exercise-2)\n",
    "3. [*Exercise 3: Demystifying Secret Numbers](#exercise-3)\n",
    "4. [*Exercise 4: Credit Card Validation](#exercise-4)"
   ]
  },
  {
   "cell_type": "markdown",
   "id": "12a59e4b",
   "metadata": {
    "heading_collapsed": true
   },
   "source": [
    "### *Exercise 1: Tom Riddle and His Horcruxes <a class=\"anchor\" id=\"exercise-1\"></a>\n",
    "#List_manipulation"
   ]
  },
  {
   "cell_type": "markdown",
   "id": "e226e674",
   "metadata": {
    "hidden": true
   },
   "source": [
    "<div class=\"alert alert-block alert-success\">\n",
    "\n",
    "Tom Riddle has created 7 Horcruxes. He knows that the old Dumbledore and other fellows in Hogwarts are not capable of Python programming. So, he decided to store 3 of the horcruxes(`'🕮'` his diary, `'💍'` Marvolo Gaunt's ring and `'♕'` Rowena Ravenclaw's diadem) and his precious nose `'👃'` into a Python list of lists. Below is his Python implementation:\n",
    "\n",
    "```python\n",
    "horcruxes = [ [] ] * 4 # create a list containing 4 empty lists\n",
    "horcruxes[0].append('🕮') # put the diary in the first list\n",
    "horcruxes[1].append('💍') # put the ring in the second list\n",
    "horcruxes[2].append('♕') # put the diadem in the third list\n",
    "horcruxes[3].append('👃') # put the nost in the last list\n",
    "```\n",
    "\n",
    "He thought he would get the resulting list as `[['🕮'],['💍'],['♕'],['👃']]`. \n",
    "\n",
    "However, he gets `[['🕮','💍','♕','👃'],['🕮','💍','♕','👃'],['🕮','💍','♕','👃'],['🕮','💍','♕','👃']]` instead. Why is that? Also, how can he create the list he wants? \n",
    "    \n",
    "</div>"
   ]
  },
  {
   "cell_type": "code",
   "execution_count": 14,
   "id": "e5e0c833",
   "metadata": {
    "ExecuteTime": {
     "end_time": "2022-03-07T00:46:47.207204Z",
     "start_time": "2022-03-07T00:46:47.197218Z"
    },
    "hidden": true
   },
   "outputs": [
    {
     "name": "stdout",
     "output_type": "stream",
     "text": [
      "[['🕮'], ['💍'], ['♕'], ['👃']]\n"
     ]
    }
   ],
   "source": [
    "# Your solution goes here\n",
    "horcruxes = [[] for i in range(4)] # create a list containing 4 empty lists\n",
    "horcruxes[0].append('🕮') # put the diary in the first list\n",
    "horcruxes[1].append('💍') # put the ring in the second list\n",
    "horcruxes[2].append('♕') # put the diadem in the third list\n",
    "horcruxes[3].append('👃') # put the nost in the last list\n",
    "print(horcruxes)\n"
   ]
  },
  {
   "cell_type": "markdown",
   "id": "6b51496a",
   "metadata": {
    "heading_collapsed": true
   },
   "source": [
    "### *Exercise 2: The Greatest Fight of Wizards <a class=\"anchor\" id=\"exercise-2\"></a>\n",
    "\n",
    "#dictionary #time_module #math_module"
   ]
  },
  {
   "cell_type": "markdown",
   "id": "2c0a4782",
   "metadata": {
    "hidden": true
   },
   "source": [
    "<div class=\"alert alert-block alert-success\">\n",
    "\n",
    "Now, Harry wrote a letter to challenge Voldemort. However, due to the lockdown, Harry and Voldemort need to stay at home and maintain social distancing. In light of that, Voldemort decides to write a Python program for Harry to challenge.\n",
    "\n",
    "In this program, it will repetitively ask Harry to type in the spells until either of Voldemort or Harry has 0 HP value. Voldemort and Harry both have 100 HP values initially. After Harry type in the spells each time, if the spell is in table 1 below, the corresponding damage will be made to Voldemort. However, if the spell is not in table 1, Harry will lose 15 HP.\n",
    "\n",
    "<table>\n",
    "<thead><td>Spell (case <b>insensitive</b>)</td><td>Damage to Voldemort</td><td>Damage to Harry</td></thead>\n",
    "<tr><td>Expelliarmus</td><td>20</td><td>0</td></tr>\n",
    "<tr><td>Incendio</td><td>15</td><td>0</td></tr>\n",
    "<tr><td>Stupefy</td><td>10</td><td>0</td></tr>\n",
    "<tr><td>Confringo</td><td>15</td><td>0</td></tr>\n",
    "<tr><td>Rictusempra</td><td>5</td><td>0</td></tr>\n",
    "<tr><td>None of above</td><td>0</td><td>15</td></tr>\n",
    "</table>\n",
    "<center><small>Table 1 - Effects of spells</small></center>\n",
    "\n",
    "If either Harry or Voldemort has 0 HP, the program will print out who is the survivor of this fight. Please write the program for Voldemort according to the above descriptions.\n",
    "    \n",
    "</div> "
   ]
  },
  {
   "cell_type": "code",
   "execution_count": 26,
   "id": "54aed61e",
   "metadata": {
    "ExecuteTime": {
     "end_time": "2022-03-07T00:46:44.357157Z",
     "start_time": "2022-03-07T00:46:44.341164Z"
    },
    "hidden": true
   },
   "outputs": [
    {
     "name": "stdout",
     "output_type": "stream",
     "text": [
      "Enter the spell: expelliarmus\n",
      "Voldemort's health is 80\n",
      "Enter the spell: expelliarmus\n",
      "Voldemort's health is 60\n",
      "Enter the spell: expelliarmus\n",
      "Voldemort's health is 40\n",
      "Enter the spell: expelliarmus\n",
      "Voldemort's health is 20\n",
      "Enter the spell: expelliarmus\n",
      "Voldemort's health is 0\n",
      "Harry won!\n"
     ]
    }
   ],
   "source": [
    "# Your solution goes here\n",
    "harry = 100\n",
    "voldemort = 100\n",
    "dead = False\n",
    "while dead == False:\n",
    "    spell = input(\"Enter the spell: \")\n",
    "    if spell in \"Expelliarmusexpelliarmus\":\n",
    "        voldemort -= 20\n",
    "        print(\"Voldemort's health is {}\".format(voldemort))\n",
    "    elif spell in \"Incendioincendio\":\n",
    "        voldemort -= 15\n",
    "        print(\"Voldemort's health is {}\".format(voldemort))\n",
    "    elif spell in \"Stupefystupify\":\n",
    "        voldemort -= 10\n",
    "        print(\"Voldemort's health is {}\".format(voldemort))\n",
    "    elif spell in \"Confringoconfringo\":\n",
    "        voldemort -= 15\n",
    "        print(\"Voldemort's health is {}\".format(voldemort))\n",
    "    elif spell in \"Rictusemprarictusempra\":\n",
    "        voldemort -= 5\n",
    "        print(\"Voldemort's health is {}\".format(voldemort))\n",
    "    else:\n",
    "        harry -= 15\n",
    "        print(\"Harry's health is {}\".format(harry))\n",
    "    \n",
    "    if harry == 0:\n",
    "        print(\"Voldemort won!\")\n",
    "        dead = True\n",
    "    elif voldemort == 0:\n",
    "        print(\"Harry won!\")\n",
    "        dead = True\n"
   ]
  },
  {
   "cell_type": "code",
   "execution_count": 31,
   "id": "b66ecddf",
   "metadata": {},
   "outputs": [
    {
     "name": "stdout",
     "output_type": "stream",
     "text": [
      "Cast a spell: expelliarmus\n"
     ]
    },
    {
     "ename": "TypeError",
     "evalue": "'dict' object is not callable",
     "output_type": "error",
     "traceback": [
      "\u001b[0;31m---------------------------------------------------------------------------\u001b[0m",
      "\u001b[0;31mTypeError\u001b[0m                                 Traceback (most recent call last)",
      "Input \u001b[0;32mIn [31]\u001b[0m, in \u001b[0;36m<cell line: 5>\u001b[0;34m()\u001b[0m\n\u001b[1;32m      6\u001b[0m harry_spell \u001b[38;5;241m=\u001b[39m \u001b[38;5;28minput\u001b[39m(\u001b[38;5;124m\"\u001b[39m\u001b[38;5;124mCast a spell: \u001b[39m\u001b[38;5;124m\"\u001b[39m)\n\u001b[1;32m      7\u001b[0m \u001b[38;5;28;01mif\u001b[39;00m harry_spell\u001b[38;5;241m.\u001b[39mlower() \u001b[38;5;129;01min\u001b[39;00m spells:\n\u001b[0;32m----> 8\u001b[0m     voldemort \u001b[38;5;241m-\u001b[39m\u001b[38;5;241m=\u001b[39m \u001b[43mspells\u001b[49m\u001b[43m(\u001b[49m\u001b[43mharry_spell\u001b[49m\u001b[38;5;241;43m.\u001b[39;49m\u001b[43mlower\u001b[49m\u001b[43m(\u001b[49m\u001b[43m)\u001b[49m\u001b[43m)\u001b[49m\n\u001b[1;32m      9\u001b[0m     \u001b[38;5;28mprint\u001b[39m(\u001b[38;5;124m\"\u001b[39m\u001b[38;5;124mVoldemort\u001b[39m\u001b[38;5;124m'\u001b[39m\u001b[38;5;124ms health is \u001b[39m\u001b[38;5;132;01m{}\u001b[39;00m\u001b[38;5;124m\"\u001b[39m\u001b[38;5;241m.\u001b[39mformat(voldemort))\n\u001b[1;32m     10\u001b[0m \u001b[38;5;28;01melse\u001b[39;00m:\n",
      "\u001b[0;31mTypeError\u001b[0m: 'dict' object is not callable"
     ]
    }
   ],
   "source": [
    "harry = 100\n",
    "voldemort = 100\n",
    "spells = {'expelliarmus': 20, 'incendio': 15, 'stupify': 10, 'confringo': 15, 'rictusempra': 5}\n",
    "\n",
    "while harry > 0 and voldemort > 0:\n",
    "    harry_spell = input(\"Cast a spell: \")\n",
    "    if harry_spell.lower() in spells:\n",
    "        voldemort -= spells(harry_spell.lower())\n",
    "        print(\"Voldemort's health is {}\".format(voldemort))\n",
    "    else:\n",
    "        harry -= 15\n",
    "        print(\"Harry's health is {}\".format(harry))\n",
    "if harry == 0:\n",
    "    print(\"Harry is not survived!\")\n",
    "else:\n",
    "    print(\"Harry survived!\")\n",
    "        "
   ]
  },
  {
   "cell_type": "markdown",
   "id": "dbcca5c6",
   "metadata": {
    "heading_collapsed": true
   },
   "source": [
    "### *Exercise 3:  Demystifying Secret Numbers<a class=\"anchor\" id=\"exercise-3\"></a>\n",
    "#dictionary #loops #condition"
   ]
  },
  {
   "cell_type": "markdown",
   "id": "7b49392c",
   "metadata": {
    "hidden": true
   },
   "source": [
    "<div class=\"alert alert-block alert-success\">\n",
    "\n",
    "<small>After learning so many things, it is about time to do a mission.</small>\n",
    "\n",
    "In this task, you are given a string of mysterious numbers and three decoding dictionaries. \n",
    "\n",
    "The string is divided into 3 parts by lines of '==='. \n",
    "\n",
    "Each part of the string can be decoded by one decoding dictionary only.\n",
    "\n",
    "In the string, the each number is split by space or new line character '\\n'.\n",
    "\n",
    "For the dictionaries, the keys are the numbers and the values are the corresponding words of the numbers.\n",
    "\n",
    "**Your goal is to try to decode this string of mysterious numbers using the three dictionaries provided.**\n",
    "\n",
    "*Things you may consider:*\n",
    "1. How can we separate the string into 3 parts?\n",
    "2. How can we separate the numbers? Are they integers or string?\n",
    "3. How can we get the correct dictionary to decode the current part of the string?\n",
    "4. How can we get the word from the number using the correct dictionary?\n",
    "5. How can we join all the decoded words together?\n",
    "    \n",
    "</div>"
   ]
  },
  {
   "cell_type": "code",
   "execution_count": 38,
   "id": "94184556",
   "metadata": {
    "ExecuteTime": {
     "end_time": "2022-03-07T00:40:53.773041Z",
     "start_time": "2022-03-07T00:40:53.761011Z"
    },
    "hidden": true
   },
   "outputs": [],
   "source": [
    "# Run this code cell to create the variables\n",
    "# mysterious numbers\n",
    "myst_nums = \"\"\"2658 8503 2582 3035 9951 5535 1763 5552 2276 2079 4906 2658 293 2582 3407 786 6164 3279 3825 595 4975\n",
    "===\n",
    "6152 1974 7262 7262 2070 1861 6055 9735 1398 183 7262 7708 3284 4175 2908 8000 9364 4979 2070 1861 6055 9735 8590 4691 4979 8618 4161 9302 4979 7840 7262\n",
    "===\n",
    "3589 3589 9817 5372 7278 3522 2890 7206 8258 2037 8445 1076 7853 5400 8159 4505 8364 8258 1258 2738 4527 8258 2635 6049 5576 6798 9432 9290 4362 8258 6142 978 9198\"\"\"\n",
    "\n",
    "\n",
    "# first look up dictionary\n",
    "dict1 = {6152: 'then', 9302: 'till', 9735: 'much', 1398: 'a', 8618: 'was', 3284: 'out', 7262: 'you', 1974: \"there's\", 4979: 'i', 4161: 'lost', 9364: 'crowds', 1861: 'feel', 7840: 'found', 183: 'stranger', 8590: 'in', 8000: 'the', 6055: 'that', 2070: \"don't\", 4691: 'danger', 4175: 'from', 7708: 'stand', 2908: 'all'}\n",
    "# second look up dictionary\n",
    "dict2 = {3279: 'when', 595: 'none', 2276: 'no', 1763: 'streets', 3407: 'tryna', 3825: \"there's\", 3035: 'fighting', 4906: 'ground', 293: 'just', 5552: 'with', 2582: 'strangers', 2658: \"we're\", 9951: 'in', 5535: 'the', 6164: 'release', 2079: 'common', 4975: 'around', 8503: 'all', 786: 'find'}\n",
    "# third look up dictionary\n",
    "dict3 = {9432: 'me', 3589: 'baby,', 5576: 'baby', 4505: 'not', 6142: 'can', 2738: 'is', 5372: 'you', 9817: \"won't\", 8258: 'i', 8445: 'really', 7853: 'stay', 6798: 'hold', 9198: 'breathe', 7278: 'please', 5400: 'if', 7206: 'me?', 6049: 'you,', 4362: 'so', 3522: 'come', 1258: 'know', 2635: 'need', 8159: \"you're\", 978: 'finally', 1076: 'wanna', 4527: 'that', 2890: 'rescue', 2037: \"don't\", 9290: 'close', 8364: 'all'}"
   ]
  },
  {
   "cell_type": "code",
   "execution_count": 40,
   "id": "0375cc1f",
   "metadata": {
    "ExecuteTime": {
     "end_time": "2022-03-07T00:46:54.530593Z",
     "start_time": "2022-03-07T00:46:54.525540Z"
    },
    "hidden": true
   },
   "outputs": [
    {
     "name": "stdout",
     "output_type": "stream",
     "text": [
      "we can combine\n"
     ]
    }
   ],
   "source": [
    "# Your solution goes here\n",
    "if set(dict1.keys()).intersection(set(dict2.keys()), set(dict3.keys())):\n",
    "    print(\"We cannot combine the dictionaries\")\n",
    "else:\n",
    "    print(\"we can combine\")"
   ]
  },
  {
   "cell_type": "code",
   "execution_count": 41,
   "id": "e87bb35f",
   "metadata": {},
   "outputs": [],
   "source": [
    "dict_combined = {**dict1, **dict2, **dict3}"
   ]
  },
  {
   "cell_type": "code",
   "execution_count": 42,
   "id": "e08b1d64",
   "metadata": {},
   "outputs": [
    {
     "ename": "SyntaxError",
     "evalue": "expected ':' (2333568571.py, line 3)",
     "output_type": "error",
     "traceback": [
      "\u001b[0;36m  Input \u001b[0;32mIn [42]\u001b[0;36m\u001b[0m\n\u001b[0;31m    for item in each split():\u001b[0m\n\u001b[0m                     ^\u001b[0m\n\u001b[0;31mSyntaxError\u001b[0m\u001b[0;31m:\u001b[0m expected ':'\n"
     ]
    }
   ],
   "source": [
    "for each in myst_nums.split(\"===\"):\n",
    "    temp = \"\"\n",
    "    for item in each split():\n",
    "        temp+= dict_combined[int(item.strip())] + \"\"\n",
    "        print(temp, end = \"\\n===\\n\")"
   ]
  },
  {
   "cell_type": "markdown",
   "id": "8521f424",
   "metadata": {
    "heading_collapsed": true
   },
   "source": [
    "### *Exercise 4: Credit Card Validation <a class=\"anchor\" id=\"exercise-5\"></a>\n",
    "#function #list_comprehension"
   ]
  },
  {
   "cell_type": "markdown",
   "id": "ee31c751",
   "metadata": {
    "hidden": true
   },
   "source": [
    "<div class=\"alert alert-block alert-success\">\n",
    "\n",
    "Some may not know, the numbers on your credit cards are not simply randomly generated. In this task, you will create a program to validate a credit card number.\n",
    "\n",
    "*Luhn algorithm* is a very common algorithm used to verify a credit card number. *In this task, we have modified the algorithm a bit.* The steps are as follows:\n",
    "\n",
    "1. Drop the last digit from the number(The check digit)\n",
    "2. Reverse the numbers\n",
    "3. Multiply the digits in *odd positions* by 2 and subtract 9 to all any result higher than 9\n",
    "4. Add all the numbers together\n",
    "5. Get the remainder of the sum divided by 10\n",
    "6. The sum of remainder and the last digit removed in step 1 should be divisible by 8 if the credit card number is valid\n",
    "\n",
    "\n",
    "Example:\n",
    "<table>4539179349284192\n",
    "<tr><td>Original Number</td><td>4</td><td>5</td><td>3</td><td>9</td><td>1</td><td>7</td><td>9</td><td>3</td><td>4</td><td>9</td><td>2</td><td>8</td><td>4</td><td>1</td><td>9</td><td><b><font color='red'>2</font></b></td></tr>\n",
    "<tr><td>Drop Last Digit</td><td>4</td><td>5</td><td>3</td><td>9</td><td>1</td><td>7</td><td>9</td><td>3</td><td>4</td><td>9</td><td>2</td><td>8</td><td>4</td><td>1</td><td>9</td><td> </td></tr>\n",
    "<tr><td>Reverse the numbers</td><td>9</td><td>1</td><td>4</td><td>8</td><td>2</td><td>9</td><td>4</td><td>3</td><td>9</td><td>7</td><td>1</td><td>9</td><td>3</td><td>5</td><td>4</td><td> </td></tr>\n",
    "<tr><td>Multiply the digits in odd positions by 2</td><td>18</td><td>1</td><td>8</td><td>8</td><td>4</td><td>9</td><td>8</td><td>3</td><td>18</td><td>7</td><td>2</td><td>9</td><td>6</td><td>5</td><td>8</td><td> </td></tr>\n",
    "<tr><td>Subtract 9 to all any result higher than 9</td><td>9</td><td>1</td><td>8</td><td>8</td><td>4</td><td>9</td><td>8</td><td>3</td><td>9</td><td>7</td><td>2</td><td>9</td><td>6</td><td>5</td><td>8</td><td> </td></tr>\n",
    "<tr><td>Add all the numbers together</td><td>96</td><td> </td><td> </td><td> </td><td> </td><td> </td><td> </td><td> </td><td> </td><td> </td><td> </td><td> </td><td> </td><td> </td><td> </td><td> </td></tr>\n",
    "<tr><td>Get remainder divided by 10</td><td>6</td><td> </td><td> </td><td> </td><td> </td><td> </td><td> </td><td> </td><td> </td><td> </td><td> </td><td> </td><td> </td><td> </td><td> </td><td> </td></tr>\n",
    "<tr><td>Add remainder to last digit</td><td>6+<b><font color='red'>2</font></b></td><td>=</td><td>8</td><td> </td><td> </td><td> </td><td> </td><td> </td><td> </td><td> </td><td> </td><td> </td><td> </td><td> </td><td> </td><td> </td></tr>\n",
    "<tr><td>The sum is divisible by 8?</td><td>True</td><td> </td><td> </td><td> </td><td> </td><td> </td><td> </td><td> </td><td> </td><td> </td><td> </td><td> </td><td> </td><td> </td><td> </td><td> </td></tr>\n",
    "</table>\n",
    "\n",
    "**Write a Python function named `check_credit_card(card_num)` that will check whether the given credit card number is valid or not.**<br>\n",
    "    <br>\n",
    "The program should ask for user to enter a credit card number with length between 14 - 19 digits and validate it using the created function. If the number is valid, the program will print out 'The number is valid'. If the number is invalid, the program will print out 'The number is invalid.'    \n",
    " \n",
    "<br>\n",
    "<br>\n",
    "    \n",
    "**Example program run (bold indicate what the user enters):**\n",
    "\n",
    "Enter a value: **4539179349284192**<br>\n",
    "The number is valid.<br>\n",
    "\n",
    "<br>\n",
    "\n",
    "**Example program run (bold indicate what the user enters):**\n",
    "\n",
    "Enter a value: **4539179349284197**<br>\n",
    "The number is invalid.<br>\n",
    "\n",
    "</div>"
   ]
  },
  {
   "cell_type": "code",
   "execution_count": null,
   "id": "7c49559c",
   "metadata": {
    "ExecuteTime": {
     "end_time": "2022-03-07T00:47:11.995440Z",
     "start_time": "2022-03-07T00:47:11.984440Z"
    },
    "hidden": true
   },
   "outputs": [],
   "source": [
    "# Your solution goes here\n",
    "def check_credit_card(card_num):\n",
    "    if 14 <= card_num <=19:\n",
    "        last_digit = card_num[-1] \n",
    "        "
   ]
  }
 ],
 "metadata": {
  "kernelspec": {
   "display_name": "Python 3 (ipykernel)",
   "language": "python",
   "name": "python3"
  },
  "language_info": {
   "codemirror_mode": {
    "name": "ipython",
    "version": 3
   },
   "file_extension": ".py",
   "mimetype": "text/x-python",
   "name": "python",
   "nbconvert_exporter": "python",
   "pygments_lexer": "ipython3",
   "version": "3.10.2"
  },
  "latex_envs": {
   "LaTeX_envs_menu_present": true,
   "autoclose": false,
   "autocomplete": true,
   "bibliofile": "biblio.bib",
   "cite_by": "apalike",
   "current_citInitial": 1,
   "eqLabelWithNumbers": true,
   "eqNumInitial": 1,
   "hotkeys": {
    "equation": "Ctrl-E",
    "itemize": "Ctrl-I"
   },
   "labels_anchors": false,
   "latex_user_defs": false,
   "report_style_numbering": false,
   "user_envs_cfg": false
  },
  "varInspector": {
   "cols": {
    "lenName": 16,
    "lenType": 16,
    "lenVar": 40
   },
   "kernels_config": {
    "python": {
     "delete_cmd_postfix": "",
     "delete_cmd_prefix": "del ",
     "library": "var_list.py",
     "varRefreshCmd": "print(var_dic_list())"
    },
    "r": {
     "delete_cmd_postfix": ") ",
     "delete_cmd_prefix": "rm(",
     "library": "var_list.r",
     "varRefreshCmd": "cat(var_dic_list()) "
    }
   },
   "types_to_exclude": [
    "module",
    "function",
    "builtin_function_or_method",
    "instance",
    "_Feature"
   ],
   "window_display": false
  }
 },
 "nbformat": 4,
 "nbformat_minor": 5
}
