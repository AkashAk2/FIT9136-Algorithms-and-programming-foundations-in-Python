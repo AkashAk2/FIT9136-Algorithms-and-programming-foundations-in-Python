{
 "cells": [
  {
   "cell_type": "markdown",
   "id": "b443d774",
   "metadata": {},
   "source": [
    "# FIT9136 - Week 4 Applied Session"
   ]
  },
  {
   "cell_type": "markdown",
   "id": "5ee8dbac",
   "metadata": {},
   "source": [
    "## Table of Contents:\n",
    "\n",
    "1. [*Exercise 1: Playing with String](#exercise-1)\n",
    "2. [*Exercise 2: GPA](#exercise-2)\n",
    "3. [*Exercise 3: Prime Number](#exercise-3)\n",
    "4. [*Exercise 4: Palindrome](#exercise-4)\n",
    "5. [*Exercise 5: Dice Roll](#exercise-5)"
   ]
  },
  {
   "cell_type": "markdown",
   "id": "12a59e4b",
   "metadata": {},
   "source": [
    "### *Exercise 1: Playing with String <a class=\"anchor\" id=\"exercise-1\"></a>\n",
    "\n",
    "#String #String_Manipulation #String_functions"
   ]
  },
  {
   "cell_type": "markdown",
   "id": "e226e674",
   "metadata": {},
   "source": [
    "<div class=\"alert alert-block alert-success\">\n",
    "\n",
    "This tasks focus on using the string data type and it's related functions.\n",
    "\n",
    "* **Create a variable named \"demo_string\" that has value \"Hello World\"**\n",
    "    \n",
    "</div>"
   ]
  },
  {
   "cell_type": "code",
   "execution_count": 3,
   "id": "e5e0c833",
   "metadata": {
    "ExecuteTime": {
     "end_time": "2022-02-25T04:31:29.693973Z",
     "start_time": "2022-02-25T04:31:29.681974Z"
    }
   },
   "outputs": [],
   "source": [
    "# Your solution goes here\n",
    "demo_string = \"Hello World\""
   ]
  },
  {
   "cell_type": "code",
   "execution_count": null,
   "id": "e0c7ca14",
   "metadata": {},
   "outputs": [],
   "source": []
  },
  {
   "cell_type": "markdown",
   "id": "1216526c",
   "metadata": {},
   "source": [
    "<div class=\"alert alert-block alert-success\">\n",
    "\n",
    "* **What is the length of the string that is stored in \"demo_string\"?**\n",
    "\n",
    "</div>"
   ]
  },
  {
   "cell_type": "code",
   "execution_count": 4,
   "id": "951835d8",
   "metadata": {
    "ExecuteTime": {
     "end_time": "2022-02-25T04:31:29.709973Z",
     "start_time": "2022-02-25T04:31:29.694974Z"
    }
   },
   "outputs": [
    {
     "name": "stdout",
     "output_type": "stream",
     "text": [
      "11\n"
     ]
    }
   ],
   "source": [
    "# Your solution goes here\n",
    "print(len(demo_string))"
   ]
  },
  {
   "cell_type": "markdown",
   "id": "e97900cb",
   "metadata": {},
   "source": [
    "<div class=\"alert alert-block alert-success\">\n",
    "\n",
    "* **Write the word \"Hello\" and \"world\" separately in a different lines of output window, like this:**\n",
    "\n",
    "        Hello\n",
    "        World\n",
    "    \n",
    "</div>"
   ]
  },
  {
   "cell_type": "code",
   "execution_count": 6,
   "id": "153d8d42",
   "metadata": {
    "ExecuteTime": {
     "end_time": "2022-02-25T04:31:29.725973Z",
     "start_time": "2022-02-25T04:31:29.710973Z"
    }
   },
   "outputs": [
    {
     "name": "stdout",
     "output_type": "stream",
     "text": [
      "Hello\n",
      "World\n"
     ]
    }
   ],
   "source": [
    "# Your solution goes here\n",
    "print(demo_string[:5])\n",
    "print(demo_string[-5:])"
   ]
  },
  {
   "cell_type": "code",
   "execution_count": 7,
   "id": "d9f4d607",
   "metadata": {},
   "outputs": [
    {
     "name": "stdout",
     "output_type": "stream",
     "text": [
      "Hello\n",
      "World\n"
     ]
    }
   ],
   "source": [
    "print(demo_string.split()[0])\n",
    "print(demo_string.split()[1])"
   ]
  },
  {
   "cell_type": "markdown",
   "id": "6b51496a",
   "metadata": {
    "heading_collapsed": true
   },
   "source": [
    "### *Exercise 2: GPA Calculator <a class=\"anchor\" id=\"exercise-2\"></a>\n",
    "#list_manipulation #function #condition"
   ]
  },
  {
   "cell_type": "markdown",
   "id": "2c0a4782",
   "metadata": {
    "hidden": true
   },
   "source": [
    "<div class=\"alert alert-block alert-success\">\n",
    "\n",
    "GPA stands for Grade-Point Average, which is used by most of the university to find the average grade of the student. the Formula for the GPA Calculation is:\n",
    "* GPA = sum of (Unit_credit * Grade_value) / sum of Unit Credit\n",
    "\n",
    "\n",
    "* **Grade Value table:**\n",
    "\n",
    "|Marks range|Grade|Grade Value|\n",
    "|---|---|---|\n",
    "| 80 - 100 | HD | 4 |\n",
    "| 70-79 | D | 3 |\n",
    "| 60-69 | C | 2 |\n",
    "| 50-59 | P | 1 |\n",
    "| 49-0 | N | 0.3 |\n",
    "\n",
    "In this exercise, you are provided with the students data  in a form of list of list and the unit credit list that tells about the credit point of a unit.\n",
    "\n",
    "For example: one of the students data is \n",
    "* `['Bruce', 72, 75, 100, 89]`, from the list name of the student is Bruce and marks for the Unit 1 is 72, Unit 2 is 75, Unit 3 is 100, and Unit 4 is 89.\n",
    "* The unit_credit list `[3, 4, 2, 5]`, from the list Unit 1 has credit 3, Unit 2 has credit 4, Unit 3 has credit 2, and Unit 4 has credit 5.\n",
    "* Now, we need the Grade_value based on the Marks, so using the above table, Grade values are as follow: 3, 3, 4, 4. Because, Unit 1 and Unit 2 have marks between 70 and 79, so the Grade value is 3, and for unit 3 & 4, marks are above 80, so the grade value is 4.\n",
    "* So based on the formula mentioned, Bruce's GPA is (3*3 + 3*4 + 4*2 + 4*5) / (3+2+4+5), which is equal to 3.5\n",
    "\n",
    "\n",
    "**Write a Python program to calculate the GPA. You have to create one function named `get_grade_value`, which takes mark of a unit and returns the grade value. And another function named `get_gpa`, which takes two argument, unit_credit list and stud_marks list and returns the GPA of a student.**\n",
    "\n",
    "**Example program run (bold indicate what the user enters):**\n",
    "\n",
    "Bruce got 3.5 GPA<br>\n",
    "Clark got 2.229 GPA<br>\n",
    "John got 0.914 GPA<br>\n",
    "Barry got 3.0 GPA<br>\n",
    "Diana got 3.357 GPA<br>\n",
    "Arthur got 0.3 GPA<br>\n",
    "    \n",
    "</div> "
   ]
  },
  {
   "cell_type": "code",
   "execution_count": 4,
   "id": "54aed61e",
   "metadata": {
    "ExecuteTime": {
     "end_time": "2022-02-25T04:31:29.741973Z",
     "start_time": "2022-02-25T04:31:29.726973Z"
    },
    "hidden": true
   },
   "outputs": [],
   "source": [
    "# Your solution goes here"
   ]
  },
  {
   "cell_type": "code",
   "execution_count": 10,
   "id": "53a81918",
   "metadata": {
    "ExecuteTime": {
     "end_time": "2022-02-25T04:31:29.758012Z",
     "start_time": "2022-02-25T04:31:29.742973Z"
    },
    "hidden": true
   },
   "outputs": [
    {
     "ename": "IndentationError",
     "evalue": "expected an indented block after function definition on line 30 (3967136501.py, line 32)",
     "output_type": "error",
     "traceback": [
      "\u001b[0;36m  Input \u001b[0;32mIn [10]\u001b[0;36m\u001b[0m\n\u001b[0;31m    \u001b[0m\n\u001b[0m    ^\u001b[0m\n\u001b[0;31mIndentationError\u001b[0m\u001b[0;31m:\u001b[0m expected an indented block after function definition on line 30\n"
     ]
    }
   ],
   "source": [
    "# Unit Credit list  \n",
    "unit_credit = [3, 4, 2, 5]\n",
    "\n",
    "# Students Data\n",
    "students_data = [['Bruce', 72, 75, 100, 89],\n",
    "                ['Clark', 92, 20, 81, 68],\n",
    "                ['John', 64, 41, 45, 57],\n",
    "                ['Barry', 55, 80, 94, 71],\n",
    "                ['Diana', 84, 71, 100, 70],\n",
    "                ['Arthur', 43, 12, 40, 47]]\n",
    "\n",
    "# Your solution goes here\n",
    "def get_grade_value(mark):\n",
    "    if marks>= 80:\n",
    "        grade = 4\n",
    "        return grade\n",
    "    elif 70 <= mark <= 79:\n",
    "        grade = 3\n",
    "        return grade\n",
    "    elif 60 <= mark <= 69:\n",
    "        grade = 2\n",
    "        return grade\n",
    "    elif 50 <= mark <= 59:\n",
    "        grade = 1\n",
    "        return grade\n",
    "    else:\n",
    "        grade = 0.3\n",
    "        return grade\n",
    "    \n",
    "def get_gpa(unit_credit, stud_marks):\n",
    "    \n",
    "    "
   ]
  },
  {
   "cell_type": "markdown",
   "id": "dbcca5c6",
   "metadata": {
    "heading_collapsed": true
   },
   "source": [
    "### *Exercise 3: Prime Number <a class=\"anchor\" id=\"exercise-3\"></a>\n",
    "#Loops #conditional_statements"
   ]
  },
  {
   "cell_type": "markdown",
   "id": "7b49392c",
   "metadata": {
    "hidden": true
   },
   "source": [
    "<div class=\"alert alert-block alert-success\">\n",
    "\n",
    "As you all are familiar with the what the prime number is. Now, it is time to code it. This exercise is in 2 parts:\n",
    "1. Part 1: In this part, we shall ask user to enter a number and code checks whether it is prime or not.\n",
    "2. Part 2: In this part, we shall ask user to enter a number and code will return the number in the Nth position in the list after removing all the composites.\n",
    "\n",
    "\n",
    "#### Part 1: Check for Prime:\n",
    "\n",
    "Write a Python function named `check_prime` which take one argument `num` as integer and checks whether it is prime number or not. If it is prime, then returns `True` else it returns `False`\n",
    "\n",
    "**Example program run (bold indicate what the user enters):**\n",
    "\n",
    "Enter a number: **11**\n",
    "\n",
    "11 is a prime number.\n",
    "\n",
    "**Another Example:**\n",
    "\n",
    "Enter a number: **12**\n",
    "\n",
    "12 is not a prime number.\n",
    "    \n",
    "</div>"
   ]
  },
  {
   "cell_type": "code",
   "execution_count": 34,
   "id": "0375cc1f",
   "metadata": {
    "ExecuteTime": {
     "end_time": "2022-02-25T04:31:29.773973Z",
     "start_time": "2022-02-25T04:31:29.758973Z"
    },
    "hidden": true
   },
   "outputs": [
    {
     "name": "stdout",
     "output_type": "stream",
     "text": [
      "Enter a number:6\n",
      "6 is not a prime number.\n"
     ]
    }
   ],
   "source": [
    "# Your solution goes here\n",
    "def check_prime(num):\n",
    "    if 1 <= num <=3:\n",
    "        print(num,\"is a prime number.\")\n",
    "        return True\n",
    "    elif num % 2 == 0:\n",
    "        print(num,\"is not a prime number.\")\n",
    "        return False\n",
    "    elif num % 3 == 0:\n",
    "        print(num,\"is not a prime number.\")\n",
    "        return False\n",
    "    else:\n",
    "        return True\n",
    "        print(num,\"is a prime number.\")\n",
    "number = (int)(input(\"Enter a number:\"))\n",
    "check_prime(number);"
   ]
  },
  {
   "cell_type": "markdown",
   "id": "ff2c681b",
   "metadata": {
    "hidden": true
   },
   "source": [
    "<div class=\"alert alert-block alert-success\">\n",
    "    \n",
    "#### Part 2: Nth Prime Number:\n",
    "\n",
    "Write a Python function named `get_prime_number` which take one argument `num` as integer and return the number in the Nth position in the list after removing all the composites.\n",
    "\n",
    "**Example program run (bold indicate what the user enters):**\n",
    "\n",
    "Enter a number: **10**\n",
    "\n",
    "The 10 prime number is 29.\n",
    "        \n",
    "        \n",
    "* **<font color = \"red\">Note</font>: Please do not use any number high than <font color=\"red\">500</font> as it might crash your system.**\n",
    "</div>"
   ]
  },
  {
   "cell_type": "code",
   "execution_count": 7,
   "id": "681e20be",
   "metadata": {
    "ExecuteTime": {
     "end_time": "2022-02-25T04:31:29.789973Z",
     "start_time": "2022-02-25T04:31:29.774972Z"
    },
    "hidden": true
   },
   "outputs": [],
   "source": [
    "# Your solution goes here"
   ]
  },
  {
   "cell_type": "markdown",
   "id": "6fb1c3f7",
   "metadata": {
    "heading_collapsed": true
   },
   "source": [
    "### *Exercise 4: Palindrome <a class=\"anchor\" id=\"exercise-4\"></a>\n",
    "\n",
    "#None_type #Conditional_statement #Iteration #string_methods #List_Manipulation"
   ]
  },
  {
   "cell_type": "markdown",
   "id": "e297cb73",
   "metadata": {
    "hidden": true
   },
   "source": [
    "<div class=\"alert alert-block alert-success\">\n",
    "\n",
    "A palindrome is a number, word or sentence that can be read the same way forwards and backwards. For examples:\n",
    "1. \"MADAM\"\n",
    "2. \"12321\"\n",
    "3. 22 02 2022 (i.e., 22nd Feb 2022)\n",
    "\n",
    "**Write a python function named `check_palindrome`, which takes a single argument named `arg` of string type and returns a two different values, i.e., boolean value and type value.** \n",
    "* For Boolean values, `True` if it is palindrome else `False`\n",
    "* For Type values, `String` if the `arg` has all the character, and `Integer` if the `arg` has all the number.\n",
    "\n",
    "**Example program run (bold indicate what the user enters):**\n",
    "\n",
    "Enter a value: **12321**\n",
    "\n",
    "(True, 'Integer')\n",
    "\n",
    "**Another Example:**\n",
    "\n",
    "Enter a value: **MADAM**\n",
    "\n",
    "(True, 'String')\n",
    "\n",
    "**Another Example:**\n",
    "\n",
    "Enter a value: **123A321**\n",
    "\n",
    "Wrong argument provided\n",
    "\n",
    "**Note: Your function should not accept the mixed values for example \"123A321\", it is palindrome but it is neither Number nor String.**\n",
    "</div>"
   ]
  },
  {
   "cell_type": "code",
   "execution_count": 8,
   "id": "9d1f646c",
   "metadata": {
    "ExecuteTime": {
     "end_time": "2022-02-25T04:31:29.806014Z",
     "start_time": "2022-02-25T04:31:29.791975Z"
    },
    "hidden": true
   },
   "outputs": [],
   "source": [
    "# Your solution goes here\n",
    "def check_palindrome(arg):\n",
    "    "
   ]
  },
  {
   "cell_type": "markdown",
   "id": "8521f424",
   "metadata": {
    "heading_collapsed": true
   },
   "source": [
    "### *Exercise 5: Dice Roll <a class=\"anchor\" id=\"exercise-5\"></a>\n",
    "#random_module #creating_menu #user_validation"
   ]
  },
  {
   "cell_type": "markdown",
   "id": "ee31c751",
   "metadata": {
    "hidden": true
   },
   "source": [
    "<div class=\"alert alert-block alert-success\">\n",
    "\n",
    "Dice is a small throw-able object that has multiple faces and each face is marked with numbers or shape that represents the number. Normally, a 6-faced dice is used in board-games like monoploy, catan, and so on. But there is one particular game called \"Dungeons and Dragons\", which uses 7 different kind of faced dice (i.e., 4, 6, 8, 10, 12, 20, 100 faced). The 4-faced dice is  referred as `d4`, 6-faced as `d6`, and till `d100`.\n",
    "\n",
    "\n",
    "**Write a python program that asks a users to select a dice to roll from a menu and roll that dice using a function named `roll_dice` that takes one argument from `[4, 6, 8, 10, 12, 20, 100]` and return the one random value from the specified dice.**\n",
    "\n",
    "**Example program run (bold indicate what the user enters):**\n",
    "\n",
    "Which Dice you want to roll?<br>\n",
    "Enter the number on left side to roll a dice<br>\n",
    "1....d4<br>\n",
    "2....d6<br>\n",
    "3....d8<br>\n",
    "4....d10<br>\n",
    "5....d12<br>\n",
    "6....d20<br>\n",
    "7....d100<br>\n",
    "8....Exit<br>\n",
    "Enter your choice: **2**<br>\n",
    "\n",
    "Rolling the D6 dice..........and it rolled 4\n",
    "\n",
    "**Another Example:**\n",
    "\n",
    "Which Dice you want to roll?<br>\n",
    "Enter the number on left side to roll a dice<br>\n",
    "1....d4<br>\n",
    "2....d6<br>\n",
    "3....d8<br>\n",
    "4....d10<br>\n",
    "5....d12<br>\n",
    "6....d20<br>\n",
    "7....d100<br>\n",
    "8....Exit<br>\n",
    "Enter your choice:**abc**<br>\n",
    "You have enter invalid choice. Try again<br>\n",
    "Enter your choice:**xyz**<br>\n",
    "You have enter invalid choice. Try again<br>\n",
    "Enter your choice:**5**<br>\n",
    "Rolling the D12 dice..........and it rolled 8\n",
    "\n",
    "\n",
    "**Note:**\n",
    "* Your code should not allow any alphabets as user input. Only digits are allowed. If the entered digit is more than 8 it should print a message that you have entered invalid choice.\n",
    "* Hint: Think about the `random` module.\n",
    "    \n",
    "</div>"
   ]
  },
  {
   "cell_type": "code",
   "execution_count": 3,
   "id": "7c49559c",
   "metadata": {
    "ExecuteTime": {
     "end_time": "2022-02-25T04:31:29.821992Z",
     "start_time": "2022-02-25T04:31:29.806976Z"
    },
    "hidden": true
   },
   "outputs": [
    {
     "name": "stdout",
     "output_type": "stream",
     "text": [
      "Which Dice you want to roll?\n",
      "Enter the number on the left side to roll a dice\n",
      "1...d4\n",
      "2...d6\n",
      "3...d8\n",
      "4...d10\n",
      "5...d12\n",
      "6...d20\n",
      "7...d100\n",
      "8...Exit\n",
      "Enter a choice:4\n",
      "Rolling the D10 dice...... and it rolled 6\n"
     ]
    }
   ],
   "source": [
    "# Your solution goes here\n",
    "import random\n",
    "\n",
    "def roll_dice():\n",
    "    print(\"Which Dice you want to roll?\")\n",
    "    print(\"Enter the number on the left side to roll a dice\")\n",
    "    print(\"1...d4\\n2...d6\\n3...d8\\n4...d10\\n5...d12\\n6...d20\\n7...d100\\n8...Exit\")\n",
    "    choice = (int)(input(\"Enter a choice:\"))\n",
    "    if choice == 1:\n",
    "        print(\"Rolling the D4 dice...... and it rolled {}\".format(random.randrange(1,5)))\n",
    "    elif choice == 2:\n",
    "        print(\"Rolling the D6 dice...... and it rolled {}\".format(random.randrange(1,7)))\n",
    "    elif choice == 3:\n",
    "        print(\"Rolling the D8 dice...... and it rolled {}\".format(random.randrange(1,9)))\n",
    "    elif choice == 4:\n",
    "        print(\"Rolling the D10 dice...... and it rolled {}\".format(random.randrange(1,11)))\n",
    "    elif choice == 5:\n",
    "        print(\"Rolling the D12 dice...... and it rolled {}\".format(random.randrange(1,13)))\n",
    "    elif choice == 6:\n",
    "        print(\"Rolling the D20 dice...... and it rolled {}\".format(random.randrange(1,21)))\n",
    "    elif choice == 7:\n",
    "        print(\"Rolling the D100 dice...... and it rolled {}\".format(random.randrange(1,101)))\n",
    "    else:\n",
    "        exit()\n",
    "\n",
    "roll_dice()"
   ]
  }
 ],
 "metadata": {
  "kernelspec": {
   "display_name": "Python 3 (ipykernel)",
   "language": "python",
   "name": "python3"
  },
  "language_info": {
   "codemirror_mode": {
    "name": "ipython",
    "version": 3
   },
   "file_extension": ".py",
   "mimetype": "text/x-python",
   "name": "python",
   "nbconvert_exporter": "python",
   "pygments_lexer": "ipython3",
   "version": "3.10.2"
  },
  "latex_envs": {
   "LaTeX_envs_menu_present": true,
   "autoclose": false,
   "autocomplete": true,
   "bibliofile": "biblio.bib",
   "cite_by": "apalike",
   "current_citInitial": 1,
   "eqLabelWithNumbers": true,
   "eqNumInitial": 1,
   "hotkeys": {
    "equation": "Ctrl-E",
    "itemize": "Ctrl-I"
   },
   "labels_anchors": false,
   "latex_user_defs": false,
   "report_style_numbering": false,
   "user_envs_cfg": false
  }
 },
 "nbformat": 4,
 "nbformat_minor": 5
}
