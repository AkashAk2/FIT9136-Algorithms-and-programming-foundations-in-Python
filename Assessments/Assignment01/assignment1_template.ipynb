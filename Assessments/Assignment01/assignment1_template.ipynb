{
 "cells": [
  {
   "cell_type": "markdown",
   "id": "4f62ad19",
   "metadata": {},
   "source": [
    "# FIT9136 Assignment 1\n"
   ]
  },
  {
   "cell_type": "markdown",
   "id": "c1e9b4c9",
   "metadata": {},
   "source": [
    "## 1. Get user input function \n",
    "\n",
    "This function has one positional argument “requirement” which is str type. The variable “requirement” can only be the value of (“letter”, “number”, “letter_or_number_or_underscore”, “email”). According to the “requirement” value, this function asks the user to input a corresponding value and return this input. \n",
    "<ul>  \n",
    "    <li>If “requirement” is “letter”, user input can only be letters from [a-zA-Z]. </li>\n",
    "<li>If “requirement” is “number”, user input can only be [0-9]. </li>\n",
    "<li>If “requirement” is “letter_or_number_or_underscore”, user input can only be [a-zA-z0-9_]. </li>\n",
    "<li>If “requirement” is “email”, the user input must contain “@” and “.com”. </li>\n",
    "<li>If user input cannot match the “requirement”, a loop should be applied to keep asking user to input until a valid result is obtained. Finally, the valid value should be returned.  </li>\n",
    "</ul>\n",
    "\n",
    "For example, when calling this function and giving “requirement” value “letter”, user input like “abc123” will receive an error message printed out. Then, your system should print out messages to ask user re-input until an all letter input is made like “abcde”.\n",
    "\n"
   ]
  },
  {
   "cell_type": "code",
   "execution_count": null,
   "id": "9268aff2",
   "metadata": {},
   "outputs": [],
   "source": [
    "#Name: Akash Balakrishnan\n",
    "#Student ID: 32192886\n",
    "#Start date: 26/03/2022\n",
    "#Last modified date: 26/03/2022\n",
    "\n",
    "\n",
    "# define your function here\n",
    "def get_user_input(requirement):\n",
    "    \n",
    "    #Checking whether the requirement is a letter\n",
    "    if requirement == \"letter\":\n",
    "        isLetter = False\n",
    "        #Creating a loop until the user input is a valid alphabet only input. \n",
    "        while isLetter == False: \n",
    "            #Getting input from the user and storing it in the variable named \"letter\"\n",
    "            letter = input(\"Enter letter only input: \")\n",
    "            #Using if statement validating the user input whether it is alphabet or not. \n",
    "            if letter.isalpha():\n",
    "                #if the user input is a valid input then the loop will end\n",
    "                isLetter = True;\n",
    "            #Else it will prompt an error message and will ask the user to re enter the values\n",
    "            else:\n",
    "                print(\"Please enter alphabets only!\")\n",
    "                isLetter = False;\n",
    "   \n",
    "    #Getting number only input\n",
    "    if requirement == \"number\":\n",
    "        isNumber = False\n",
    "        #Creating a loop until the user input is a valid number only input. \n",
    "        while isNumber == False: \n",
    "            #Getting input from the user and storing it in the variable named \"number\"\n",
    "            number = input(\"Enter number only input: \")\n",
    "            #Using if statement validating the user input whether it is digits only or not. \n",
    "            if number.isdigit():\n",
    "                #if the user input is a valid input then the loop will end\n",
    "                isNumber = True;\n",
    "            #Else it will prompt an error message and will ask the user to re enter the values\n",
    "            else:\n",
    "                print(\"Please enter numbers only!\")\n",
    "                isNumber = False;\n",
    "                \n",
    "                \n",
    "    #Getting letter_or_number_or_underscore input from the user\n",
    "    if requirement == \"letter_or_number_or_underscore\":\n",
    "        is_let_or_num_or_undscore = False\n",
    "        #creating a conditional loop to check if the input has only a letter or number or underscore\n",
    "        while is_let_or_num_or_undscore == False:\n",
    "            #getting input from the user\n",
    "            letter_or_number_or_underscore = input(\"Enter letter or number or underscore input: \")\n",
    "            #if the input contains letter or number or underscore then the loop will break and the input will be collected\n",
    "            if letter_or_number_or_underscore.isalpha() or letter_or_number_or_underscore.isdigit() or letter_or_number_or_underscore in ('_'):\n",
    "                is_let_or_num_or_undscore = True\n",
    "            #Else if the user failed to enter the valid input an error message will appear and will ask the user again    \n",
    "            else:\n",
    "                print(\"Please enter letter or number or underscore only!\")\n",
    "                is_let_or_num_or_undscore = False\n",
    "    \n",
    "    #Getting email address from the user\n",
    "    if requirement == \"email\":\n",
    "        #creating a boolean variable to break the loop\n",
    "        isEmail = False;\n",
    "        #A conditional loop which will validate the user's input\n",
    "        while isEmail == False:\n",
    "            #getting the input from the user and storing it in a variable named \"email\"\n",
    "            email = input(\"Enter the email address: \")\n",
    "            #Using if condition to check whether the user's input has @ and .com as per the email convention\n",
    "            if \"@\" in email and \".com\" in email:\n",
    "               #if the user's input is valid then the loop will end \n",
    "                isEmail = True\n",
    "            #Else an error message will appear and ask the user to enter the email address again.    \n",
    "            else:\n",
    "                print(\"Please enter a valid email address!\")\n",
    "                isEmail = False\n",
    "\n",
    "get_user_input(\"letter\")\n",
    "get_user_input(\"number\")\n",
    "get_user_input(\"letter_or_number_or_underscore\")\n",
    "get_user_input(\"email\")\n",
    "        \n",
    "        \n",
    "    \n",
    "    "
   ]
  },
  {
   "cell_type": "markdown",
   "id": "4e11d7df",
   "metadata": {},
   "source": [
    "## 2. Encryption function\n",
    "\n",
    "This function has a string type positional argument. This function is used to encrypt user input passwords. When we use a web application and enter our password. Our password values will not be stored directly as plain text into the application’s database. Because if an attacker get the database information, they can obtain the user password text. Commonly, users’ passwords will be encrypted with some algorithms(like MD5) to avoid further loss when database leakage happens. Our function emulates a password encryption process. The final encrypted password will follow the requirements listed below. \n",
    "\n",
    "One variable all_punctuation is provided whose value is all_punctuation =\"\"\"!\"#\\$\\%&'()*+,-./:;<=>?@[\\]^_`{|}~\"\"\". \n",
    "\n",
    "<ul>\n",
    "<li>get the character of all_punctuation at input string length module all_punctuation length as the first_character. </li>\n",
    "<li>The second_character position in all_punctuation is the input string length module 5. </li>\n",
    "<li>The third_character position in all_punctuation is the input string length module 10. </li>\n",
    "<li>Start character “^^^” and End character “$$$” for the final encrypted string.</li>\n",
    "</ul>\n",
    "\n",
    "\n",
    "Example: \n",
    "<ul>\n",
    "<li>input string: “password”</li>\n",
    "<li>first_character: “)”</li>\n",
    "<li>second_character: “\\$”</li>\n",
    "<li>third_character: “)”</li>\n",
    "<li>Encrypted result: “^^^)p)\\$\\$a\\$\\$)))s))))s)\\$\\$w\\$\\$)))o))))r)\\$\\$d\\$\\$\\$\\$\\$”</li>\n",
    "</ul>\n",
    "The encrypted string will be returned at the end of this function.\n"
   ]
  },
  {
   "cell_type": "code",
   "execution_count": null,
   "id": "539a3eae",
   "metadata": {},
   "outputs": [],
   "source": [
    "#creating a method named encryption and passing a string that needs to be encrypted\n",
    "def encryption(input_str):\n",
    "    input_str_len = len(input_str)\n",
    "    all_punctuation_length = len(all_punctuation)\n",
    "    first_character = all_punctuation[input_str_len % all_punctuation_length]\n",
    "    second_character = all_punctuation[input_str_len % 5]\n",
    "    third_character = all_punctuation[input_str_len % 10]\n",
    "    start_character = '^^^'\n",
    "    end_character = '$$$'\n",
    "    encrypted = \"\"\" \"\"\"\n",
    "    encrypted += start_character\n",
    "\n",
    "    for i in range(0,input_str_len):\n",
    "        if i % 3 == 0:\n",
    "            encrypted += first_character + input_str[i] + first_character\n",
    "        if i % 3 == 1:\n",
    "            encrypted += (second_character*2) + input_str[i] + (second_character * 2)\n",
    "        if i % 3 == 2:\n",
    "            encrypted += (third_character * 3) + input_str[i] + (third_character * 3)\n",
    "        \n",
    "\n",
    "    encrypted += end_character\n",
    "    return encrypted\n",
    "    \n",
    "encryption(\"password\")\n",
    "\n"
   ]
  },
  {
   "cell_type": "markdown",
   "id": "a1e7bb65",
   "metadata": {},
   "source": [
    "## 3. Generate user id function\n",
    "\n",
    "This function contains two positional arguments that are number_of_digits(int type), number_list(list type, a list of str). Based on the number_of_digits, you are required to generate an all digit string and all the string in the number_list should be unique.   \n",
    "\n",
    "For example, the number_of_digits = 7, the generated string should only contain 7 digits. If the number_list = [“1234567”, “2345678”], the newly generated id cannot be the same as any element in the given list. The generated string id should be returned."
   ]
  },
  {
   "cell_type": "code",
   "execution_count": null,
   "id": "90ccc996",
   "metadata": {},
   "outputs": [],
   "source": [
    "# define your function here\n",
    "import random\n",
    "\n",
    "def generate_user_id(number_of_digits, number_list):\n",
    "    existing = False\n",
    "    random_str = \"\"\n",
    "    while not existing:\n",
    "        for i in range(0, number_of_digits):\n",
    "            random_str += str(random.randint(0,9))\n",
    "        if random_str not in number_list:\n",
    "            number_list.append(random_str)\n",
    "            break\n",
    "        else:\n",
    "            existing == True\n",
    "            break\n",
    "    return number_list\n",
    "        \n",
    "generate_user_id(7, [\"1234556\"])"
   ]
  },
  {
   "cell_type": "markdown",
   "id": "190e5507",
   "metadata": {},
   "source": [
    "## 4. Check username exist function\n",
    "\n",
    "This function contains two positional arguments that are username(str type) and user_list(list type, a list of list). The user_list looks like \\[\\[username1, password1, email1, postcode1\\],\\[username2, password2, email2, postcode2\\]...\\]. This function should check whether the username string exists in the user_list or not and return the boolean result.\n",
    "\n",
    "For example, given user_list=\\[\\[“aaaaa”, “bbbbb”, “aaa\\@gmail.com”, “3000”\\], \\[“eeeee”, “fffff”, “eee\\@gmai.com”, “4000”\\]\\], if the given username is “aaaaa”, return True.\n"
   ]
  },
  {
   "cell_type": "code",
   "execution_count": null,
   "id": "211d58da",
   "metadata": {},
   "outputs": [],
   "source": [
    "# define your function here\n",
    "def user_name_exist(username, user_list):\n",
    "    \n",
    "    "
   ]
  },
  {
   "cell_type": "markdown",
   "id": "98504ef0",
   "metadata": {},
   "source": [
    "## 5. Authenticate username and password function\n",
    "\n",
    "This function contains three positional arguments that are username(str type), password(str type) and user_dict(dict type). The user_dict looks like {user_id1: \\[username1, password1, email1, postcode1\\], user_id2: \\[username2, password2, email2, postcode2\\].....}. You are required to check whether the given username and password can match one item in the user_dict.  \n",
    "\n"
   ]
  },
  {
   "cell_type": "code",
   "execution_count": null,
   "id": "6cc9dcb1",
   "metadata": {},
   "outputs": [],
   "source": [
    "\"\"\"\n",
    "For example, the username=”aaaa”, password=”12333”, \n",
    "user_dict={“12345”: [“aaaa”, “^^^&1&!!2!!&&&3&&&&3&!!3!!$$$”, “aa@gmail.com”, “3151”], \n",
    "           “34567”: [“bbbbb”, “^^^%1%%%2%%%%%2%%%%2%$$$”, “bb@gmail.com”, “3000”]}, \n",
    "the authentication result will be True. \n",
    "If the username=”bbbbb”, password=”12333”, the authentication result will be False.\n",
    "\"\"\"\n",
    "# define your function here"
   ]
  },
  {
   "cell_type": "markdown",
   "id": "4cffdd37",
   "metadata": {},
   "source": [
    "## 6. Add user to list function\n",
    "\n",
    "This function has two positional arguments that are user_id_list(list type) and user_list(list type). The user_id_list looks like [‘1234’, ‘5123’, ‘62345’,.....] and the user_list looks like [[username1, password1, email1, postcode1],[username2, password2, email2, postcode2]...]. In this function, you should call the get user input function several times to ask the user to input username(only contains letters), password(contains letter or number or underscore), email(email format) and postcode(only contains numbers). Username cannot have duplicates in the user_list(call check username exist function here). After getting the postcode,  you are required to generate a unique user_id for this user.   \n",
    "The rules are listed below.  \n",
    "<ul>\n",
    "<li>1000 <= postcode < 2000   → generate a 7 digits user id</li>\n",
    "<li>2000 <= postcode < 3000   --> generate a 8 digits user id</li>\n",
    "<li>3000 <= postcode < 4000   --> generate a 9 digits user id</li>\n",
    "<li>4000 <= postcode < 5000   --> generate a 10 digits user id</li>\n",
    "</ul>\n",
    "After generating the unique user_id, it should be added into the user_id_list.  \n",
    "Once getting all the necessary information from user input, a new user(format: [username, password, email, postcode]) should be added to the user_list. The password should be encrypted when adding user info into user_list.  \n",
    "\n",
    "For example, after getting user input, a user like \\[“aaaaa”, “^^^%1%%%2%%%%%2%%%%2%$$\\$”, “aa\\@gmail.com”, “3131”\\] can be added into the user_list and a user id “123456789” can be added into the user_id_list.\n",
    "\n"
   ]
  },
  {
   "cell_type": "code",
   "execution_count": null,
   "id": "54fcac01",
   "metadata": {},
   "outputs": [],
   "source": [
    "# define your function here"
   ]
  },
  {
   "cell_type": "markdown",
   "id": "ab4b353a",
   "metadata": {},
   "source": [
    "## 7. Test function\n",
    "\n",
    "This function contains the test code using previous defined functions. The test function steps are listed below. You can also add more steps if you need.\n",
    "\n",
    "<ol>\n",
    "    <li>Define a user id list.</li>\n",
    "<li>Define a user list. Each user is also a list which contains username(str type), encrypted password(str type), email(str type) and postcode(str type). The format is like [[username1, password1, email1, postcode1],[username2, password2, email2, postcode2]...].</li>\n",
    "<li>Add several users by calling add user to list function.</li>\n",
    "<li>Convert the user id list and user list to a dictionary.</li>\n",
    "<li>Call the authentication of username and password function.</li>\n",
    "<li>When a user enters “q”, the program can quit. Otherwise, keep asking the user to input and do authentication.</li>\n",
    "<li>Print out “username password correct” or “username or password incorrect” according to the authentication result.</li>\n",
    "</ol>\n",
    "\n"
   ]
  },
  {
   "cell_type": "code",
   "execution_count": null,
   "id": "d332944e",
   "metadata": {},
   "outputs": [],
   "source": [
    "# define your function here"
   ]
  },
  {
   "cell_type": "code",
   "execution_count": null,
   "id": "ca4afbf6",
   "metadata": {},
   "outputs": [],
   "source": []
  },
  {
   "cell_type": "code",
   "execution_count": null,
   "id": "fba79c29",
   "metadata": {},
   "outputs": [],
   "source": [
    "# run the test function here"
   ]
  }
 ],
 "metadata": {
  "kernelspec": {
   "display_name": "Python 3 (ipykernel)",
   "language": "python",
   "name": "python3"
  },
  "language_info": {
   "codemirror_mode": {
    "name": "ipython",
    "version": 3
   },
   "file_extension": ".py",
   "mimetype": "text/x-python",
   "name": "python",
   "nbconvert_exporter": "python",
   "pygments_lexer": "ipython3",
   "version": "3.9.7"
  },
  "latex_envs": {
   "LaTeX_envs_menu_present": true,
   "autoclose": false,
   "autocomplete": true,
   "bibliofile": "biblio.bib",
   "cite_by": "apalike",
   "current_citInitial": 1,
   "eqLabelWithNumbers": true,
   "eqNumInitial": 1,
   "hotkeys": {
    "equation": "Ctrl-E",
    "itemize": "Ctrl-I"
   },
   "labels_anchors": false,
   "latex_user_defs": false,
   "report_style_numbering": false,
   "user_envs_cfg": false
  }
 },
 "nbformat": 4,
 "nbformat_minor": 5
}
